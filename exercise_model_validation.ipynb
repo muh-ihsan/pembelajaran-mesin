{
  "nbformat": 4,
  "nbformat_minor": 0,
  "metadata": {
    "kernelspec": {
      "display_name": "Python 3",
      "language": "python",
      "name": "python3"
    },
    "language_info": {
      "name": "python",
      "version": "3.7.10",
      "mimetype": "text/x-python",
      "codemirror_mode": {
        "name": "ipython",
        "version": 3
      },
      "pygments_lexer": "ipython3",
      "nbconvert_exporter": "python",
      "file_extension": ".py"
    },
    "colab": {
      "name": "exercise-model-validation.ipynb",
      "provenance": [],
      "include_colab_link": true
    }
  },
  "cells": [
    {
      "cell_type": "markdown",
      "metadata": {
        "id": "view-in-github",
        "colab_type": "text"
      },
      "source": [
        "<a href=\"https://colab.research.google.com/github/muh-ihsan/pembelajaran-mesin/blob/main/exercise_model_validation.ipynb\" target=\"_parent\"><img src=\"https://colab.research.google.com/assets/colab-badge.svg\" alt=\"Open In Colab\"/></a>"
      ]
    },
    {
      "cell_type": "markdown",
      "metadata": {
        "id": "CUoh6xFx6Ftf"
      },
      "source": [
        "**This notebook is an exercise in the [Introduction to Machine Learning](https://www.kaggle.com/learn/intro-to-machine-learning) course.  You can reference the tutorial at [this link](https://www.kaggle.com/dansbecker/model-validation).**\n",
        "\n",
        "---\n"
      ]
    },
    {
      "cell_type": "markdown",
      "metadata": {
        "id": "MjHOc6Jm6Ftk"
      },
      "source": [
        "## Recap\n",
        "You've built a model. In this exercise you will test how good your model is.\n",
        "\n",
        "Run the cell below to set up your coding environment where the previous exercise left off."
      ]
    },
    {
      "cell_type": "code",
      "metadata": {
        "colab": {
          "base_uri": "https://localhost:8080/"
        },
        "id": "m5c0MRAU6Hj3",
        "outputId": "4fd08798-c043-46b4-83b0-9cc566eb2e65"
      },
      "source": [
        "# Set up learntools\n",
        "!git clone https://github.com/Kaggle/learntools.git\n",
        "!mv learntools learntools_dir\n",
        "!mv learntools_dir/learntools learntools"
      ],
      "execution_count": null,
      "outputs": [
        {
          "output_type": "stream",
          "name": "stdout",
          "text": [
            "Cloning into 'learntools'...\n",
            "remote: Enumerating objects: 16724, done.\u001b[K\n",
            "remote: Counting objects: 100% (944/944), done.\u001b[K\n",
            "remote: Compressing objects: 100% (553/553), done.\u001b[K\n",
            "remote: Total 16724 (delta 613), reused 666 (delta 391), pack-reused 15780\u001b[K\n",
            "Receiving objects: 100% (16724/16724), 104.37 MiB | 24.86 MiB/s, done.\n",
            "Resolving deltas: 100% (12319/12319), done.\n"
          ]
        }
      ]
    },
    {
      "cell_type": "code",
      "metadata": {
        "execution": {
          "iopub.status.busy": "2021-09-28T05:24:38.372699Z",
          "iopub.execute_input": "2021-09-28T05:24:38.373086Z",
          "iopub.status.idle": "2021-09-28T05:24:39.561093Z",
          "shell.execute_reply.started": "2021-09-28T05:24:38.372989Z",
          "shell.execute_reply": "2021-09-28T05:24:39.560236Z"
        },
        "trusted": true,
        "colab": {
          "base_uri": "https://localhost:8080/"
        },
        "id": "1otGpVdz6Ftl",
        "outputId": "7d41a59e-6ce0-467c-87a5-95e35a122bd6"
      },
      "source": [
        "# Code you have previously used to load data\n",
        "import pandas as pd\n",
        "from sklearn.tree import DecisionTreeRegressor\n",
        "\n",
        "# Path of the file to read\n",
        "iowa_file_path = 'input/train.csv'\n",
        "\n",
        "home_data = pd.read_csv(iowa_file_path)\n",
        "y = home_data.SalePrice\n",
        "feature_columns = ['LotArea', 'YearBuilt', '1stFlrSF', '2ndFlrSF', 'FullBath', 'BedroomAbvGr', 'TotRmsAbvGrd']\n",
        "X = home_data[feature_columns]\n",
        "\n",
        "# Specify Model\n",
        "iowa_model = DecisionTreeRegressor()\n",
        "# Fit Model\n",
        "iowa_model.fit(X, y)\n",
        "\n",
        "print(\"First in-sample predictions:\", iowa_model.predict(X.head()))\n",
        "print(\"Actual target values for those homes:\", y.head().tolist())\n",
        "\n",
        "# Set up code checking\n",
        "from learntools.core import binder\n",
        "binder.bind(globals())\n",
        "from learntools.machine_learning.ex4 import *\n",
        "print(\"Setup Complete\")"
      ],
      "execution_count": null,
      "outputs": [
        {
          "output_type": "stream",
          "name": "stdout",
          "text": [
            "First in-sample predictions: [208500. 181500. 223500. 140000. 250000.]\n",
            "Actual target values for those homes: [208500, 181500, 223500, 140000, 250000]\n",
            "Setup Complete\n"
          ]
        }
      ]
    },
    {
      "cell_type": "markdown",
      "metadata": {
        "id": "YHUHw7KJ6Ftn"
      },
      "source": [
        "# Exercises\n",
        "\n",
        "## Step 1: Split Your Data\n",
        "Use the `train_test_split` function to split up your data.\n",
        "\n",
        "Give it the argument `random_state=1` so the `check` functions know what to expect when verifying your code.\n",
        "\n",
        "Recall, your features are loaded in the DataFrame **X** and your target is loaded in **y**.\n"
      ]
    },
    {
      "cell_type": "code",
      "metadata": {
        "execution": {
          "iopub.status.busy": "2021-09-28T05:24:50.871203Z",
          "iopub.execute_input": "2021-09-28T05:24:50.872251Z",
          "iopub.status.idle": "2021-09-28T05:24:50.890427Z",
          "shell.execute_reply.started": "2021-09-28T05:24:50.872198Z",
          "shell.execute_reply": "2021-09-28T05:24:50.889429Z"
        },
        "trusted": true,
        "colab": {
          "base_uri": "https://localhost:8080/",
          "height": 46
        },
        "id": "-5ZvPY4u6Ftn",
        "outputId": "0c4a6cfd-ea52-4d7e-e3a6-4b2f98cf3631"
      },
      "source": [
        "# Import the train_test_split function and uncomment\n",
        "from sklearn.model_selection import train_test_split\n",
        "\n",
        "# fill in and uncomment\n",
        "train_X, val_X, train_y, val_y = train_test_split(X, y, random_state = 1)\n",
        "\n",
        "# Check your answer\n",
        "step_1.check()"
      ],
      "execution_count": null,
      "outputs": [
        {
          "output_type": "display_data",
          "data": {
            "application/javascript": [
              "parent.postMessage({\"jupyterEvent\": \"custom.exercise_interaction\", \"data\": {\"outcomeType\": 1, \"valueTowardsCompletion\": 0.25, \"interactionType\": 1, \"questionType\": 2, \"questionId\": \"1_SplitData\", \"learnToolsVersion\": \"0.3.4\", \"failureMessage\": \"\", \"exceptionClass\": \"\", \"trace\": \"\"}}, \"*\")"
            ],
            "text/plain": [
              "<IPython.core.display.Javascript object>"
            ]
          },
          "metadata": {}
        },
        {
          "output_type": "display_data",
          "data": {
            "text/markdown": "<span style=\"color:#33cc33\">Correct</span>",
            "text/plain": [
              "Correct"
            ]
          },
          "metadata": {}
        }
      ]
    },
    {
      "cell_type": "code",
      "metadata": {
        "id": "P_aZo7Le6Fto"
      },
      "source": [
        "# The lines below will show you a hint or the solution.\n",
        "# step_1.hint() \n",
        "# step_1.solution()\n"
      ],
      "execution_count": null,
      "outputs": []
    },
    {
      "cell_type": "markdown",
      "metadata": {
        "id": "HWGpKGKk6Fto"
      },
      "source": [
        "## Step 2: Specify and Fit the Model\n",
        "\n",
        "Create a `DecisionTreeRegressor` model and fit it to the relevant data.\n",
        "Set `random_state` to 1 again when creating the model."
      ]
    },
    {
      "cell_type": "code",
      "metadata": {
        "execution": {
          "iopub.status.busy": "2021-09-28T05:24:56.050016Z",
          "iopub.execute_input": "2021-09-28T05:24:56.050822Z",
          "iopub.status.idle": "2021-09-28T05:24:56.082264Z",
          "shell.execute_reply.started": "2021-09-28T05:24:56.050778Z",
          "shell.execute_reply": "2021-09-28T05:24:56.081412Z"
        },
        "trusted": true,
        "colab": {
          "base_uri": "https://localhost:8080/",
          "height": 113
        },
        "id": "gVdx-7096Fto",
        "outputId": "52a6f72f-126c-4f73-bad9-d6c293b98bf4"
      },
      "source": [
        "# You imported DecisionTreeRegressor in your last exercise\n",
        "# and that code has been copied to the setup code above. So, no need to\n",
        "# import it again\n",
        "\n",
        "# Specify the model\n",
        "iowa_model = DecisionTreeRegressor(random_state=1)\n",
        "\n",
        "# Fit iowa_model with the training data.\n",
        "iowa_model.fit(train_X, train_y)\n",
        "\n",
        "# Check your answer\n",
        "step_2.check()"
      ],
      "execution_count": null,
      "outputs": [
        {
          "output_type": "stream",
          "name": "stdout",
          "text": [
            "[186500. 184000. 130000.  92000. 164500. 220000. 335000. 144152. 215000.\n",
            " 262000.]\n",
            "[186500. 184000. 130000.  92000. 164500. 220000. 335000. 144152. 215000.\n",
            " 262000.]\n"
          ]
        },
        {
          "output_type": "display_data",
          "data": {
            "application/javascript": [
              "parent.postMessage({\"jupyterEvent\": \"custom.exercise_interaction\", \"data\": {\"outcomeType\": 1, \"valueTowardsCompletion\": 0.25, \"interactionType\": 1, \"questionType\": 2, \"questionId\": \"2_FitModelWithTrain\", \"learnToolsVersion\": \"0.3.4\", \"failureMessage\": \"\", \"exceptionClass\": \"\", \"trace\": \"\"}}, \"*\")"
            ],
            "text/plain": [
              "<IPython.core.display.Javascript object>"
            ]
          },
          "metadata": {}
        },
        {
          "output_type": "display_data",
          "data": {
            "text/markdown": "<span style=\"color:#33cc33\">Correct</span>",
            "text/plain": [
              "Correct"
            ]
          },
          "metadata": {}
        }
      ]
    },
    {
      "cell_type": "code",
      "metadata": {
        "id": "RYRFUeCM6Ftp"
      },
      "source": [
        "# step_2.hint()\n",
        "# step_2.solution()"
      ],
      "execution_count": null,
      "outputs": []
    },
    {
      "cell_type": "markdown",
      "metadata": {
        "id": "WHdhV-ko6Ftp"
      },
      "source": [
        "## Step 3: Make Predictions with Validation data\n"
      ]
    },
    {
      "cell_type": "code",
      "metadata": {
        "execution": {
          "iopub.status.busy": "2021-09-28T05:33:20.750306Z",
          "iopub.execute_input": "2021-09-28T05:33:20.750606Z",
          "iopub.status.idle": "2021-09-28T05:33:20.763779Z",
          "shell.execute_reply.started": "2021-09-28T05:33:20.750570Z",
          "shell.execute_reply": "2021-09-28T05:33:20.763179Z"
        },
        "trusted": true,
        "colab": {
          "base_uri": "https://localhost:8080/",
          "height": 46
        },
        "id": "C2GkLrWj6Ftp",
        "outputId": "9676be95-c565-4cf3-a9e0-ac2f17b19bc9"
      },
      "source": [
        "# Predict with all validation observations\n",
        "val_predictions = iowa_model.predict(val_X)\n",
        "\n",
        "# Check your answer\n",
        "step_3.check()"
      ],
      "execution_count": null,
      "outputs": [
        {
          "output_type": "display_data",
          "data": {
            "application/javascript": [
              "parent.postMessage({\"jupyterEvent\": \"custom.exercise_interaction\", \"data\": {\"outcomeType\": 1, \"valueTowardsCompletion\": 0.25, \"interactionType\": 1, \"questionType\": 2, \"questionId\": \"3_ValPreds\", \"learnToolsVersion\": \"0.3.4\", \"failureMessage\": \"\", \"exceptionClass\": \"\", \"trace\": \"\"}}, \"*\")"
            ],
            "text/plain": [
              "<IPython.core.display.Javascript object>"
            ]
          },
          "metadata": {}
        },
        {
          "output_type": "display_data",
          "data": {
            "text/markdown": "<span style=\"color:#33cc33\">Correct</span>",
            "text/plain": [
              "Correct"
            ]
          },
          "metadata": {}
        }
      ]
    },
    {
      "cell_type": "code",
      "metadata": {
        "id": "bCVgCgIB6Ftq"
      },
      "source": [
        "# step_3.hint()\n",
        "# step_3.solution()"
      ],
      "execution_count": null,
      "outputs": []
    },
    {
      "cell_type": "markdown",
      "metadata": {
        "id": "LE1AUCeU6Ftq"
      },
      "source": [
        "Inspect your predictions and actual values from validation data."
      ]
    },
    {
      "cell_type": "code",
      "metadata": {
        "execution": {
          "iopub.status.busy": "2021-09-28T05:33:49.260553Z",
          "iopub.execute_input": "2021-09-28T05:33:49.261090Z",
          "iopub.status.idle": "2021-09-28T05:33:49.268087Z",
          "shell.execute_reply.started": "2021-09-28T05:33:49.261055Z",
          "shell.execute_reply": "2021-09-28T05:33:49.267464Z"
        },
        "trusted": true,
        "colab": {
          "base_uri": "https://localhost:8080/"
        },
        "id": "sSgriMlo6Ftq",
        "outputId": "ae8f38ec-4a46-4b05-fa76-bf6b557abe3b"
      },
      "source": [
        "# print the top few validation predictions\n",
        "print(iowa_model.predict(val_X.head()))\n",
        "# print the top few actual prices from validation data\n",
        "print(y.head().tolist())"
      ],
      "execution_count": null,
      "outputs": [
        {
          "output_type": "stream",
          "name": "stdout",
          "text": [
            "[186500. 184000. 130000.  92000. 164500.]\n",
            "[208500, 181500, 223500, 140000, 250000]\n"
          ]
        }
      ]
    },
    {
      "cell_type": "markdown",
      "metadata": {
        "id": "tC5RtG7i6Ftq"
      },
      "source": [
        "What do you notice that is different from what you saw with in-sample predictions (which are printed after the top code cell in this page).\n",
        "\n",
        "Do you remember why validation predictions differ from in-sample (or training) predictions? This is an important idea from the last lesson.\n",
        "\n",
        "## Step 4: Calculate the Mean Absolute Error in Validation Data\n"
      ]
    },
    {
      "cell_type": "code",
      "metadata": {
        "execution": {
          "iopub.status.busy": "2021-09-28T05:32:02.629197Z",
          "iopub.execute_input": "2021-09-28T05:32:02.629484Z",
          "iopub.status.idle": "2021-09-28T05:32:02.640415Z",
          "shell.execute_reply.started": "2021-09-28T05:32:02.629457Z",
          "shell.execute_reply": "2021-09-28T05:32:02.639492Z"
        },
        "trusted": true,
        "colab": {
          "base_uri": "https://localhost:8080/",
          "height": 62
        },
        "id": "DsmPsX-Y6Ftr",
        "outputId": "9dc249a2-b7b2-45d7-f897-70d7c74fa2b8"
      },
      "source": [
        "from sklearn.metrics import mean_absolute_error\n",
        "val_mae = mean_absolute_error(val_y, val_predictions)\n",
        "\n",
        "# uncomment following line to see the validation_mae\n",
        "print(val_mae)\n",
        "\n",
        "# Check your answer\n",
        "step_4.check()"
      ],
      "execution_count": null,
      "outputs": [
        {
          "output_type": "stream",
          "name": "stdout",
          "text": [
            "29652.931506849316\n"
          ]
        },
        {
          "output_type": "display_data",
          "data": {
            "application/javascript": [
              "parent.postMessage({\"jupyterEvent\": \"custom.exercise_interaction\", \"data\": {\"outcomeType\": 1, \"valueTowardsCompletion\": 0.25, \"interactionType\": 1, \"questionType\": 1, \"questionId\": \"4_MAE\", \"learnToolsVersion\": \"0.3.4\", \"failureMessage\": \"\", \"exceptionClass\": \"\", \"trace\": \"\"}}, \"*\")"
            ],
            "text/plain": [
              "<IPython.core.display.Javascript object>"
            ]
          },
          "metadata": {}
        },
        {
          "output_type": "display_data",
          "data": {
            "text/markdown": "<span style=\"color:#33cc33\">Correct</span>",
            "text/plain": [
              "Correct"
            ]
          },
          "metadata": {}
        }
      ]
    },
    {
      "cell_type": "code",
      "metadata": {
        "id": "dqQsG8eR6Ftr"
      },
      "source": [
        "# step_4.hint()\n",
        "# step_4.solution()"
      ],
      "execution_count": null,
      "outputs": []
    },
    {
      "cell_type": "markdown",
      "metadata": {
        "id": "hnK2z_8u6Ftr"
      },
      "source": [
        "Is that MAE good?  There isn't a general rule for what values are good that applies across applications. But you'll see how to use (and improve) this number in the next step.\n",
        "\n",
        "# Keep Going\n",
        "\n",
        "You are ready for **[Underfitting and Overfitting](https://www.kaggle.com/dansbecker/underfitting-and-overfitting).**\n"
      ]
    }
  ]
}