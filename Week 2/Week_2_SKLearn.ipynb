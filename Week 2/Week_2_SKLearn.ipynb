{
  "nbformat": 4,
  "nbformat_minor": 0,
  "metadata": {
    "colab": {
      "name": "Week 2 SKLearn.ipynb",
      "provenance": [],
      "collapsed_sections": []
    },
    "kernelspec": {
      "name": "python3",
      "display_name": "Python 3"
    },
    "language_info": {
      "name": "python"
    }
  },
  "cells": [
    {
      "cell_type": "markdown",
      "metadata": {
        "id": "dBIDWwHuUt_k"
      },
      "source": [
        "**Linear Model using scikit-learn**\n",
        "\n",
        "https://www.kaggle.com/ksekhark/simple-linear-regression-using-sklearn/notebook"
      ]
    },
    {
      "cell_type": "code",
      "metadata": {
        "colab": {
          "base_uri": "https://localhost:8080/"
        },
        "id": "VpX2QKWgUQer",
        "outputId": "56fe92c3-e525-4e91-e4e7-6d86a19fe69d"
      },
      "source": [
        "from google.colab import drive\n",
        "drive.mount('/content/drive')"
      ],
      "execution_count": 8,
      "outputs": [
        {
          "output_type": "stream",
          "name": "stdout",
          "text": [
            "Drive already mounted at /content/drive; to attempt to forcibly remount, call drive.mount(\"/content/drive\", force_remount=True).\n"
          ]
        }
      ]
    },
    {
      "cell_type": "markdown",
      "metadata": {
        "id": "1l4Pt6trVUwv"
      },
      "source": [
        "Set Up Library"
      ]
    },
    {
      "cell_type": "code",
      "metadata": {
        "id": "h2OLiCJpVtfo"
      },
      "source": [
        "import numpy as np # linear algebra\n",
        "import pandas as pd # data processing, CSV file I/O (e.g. pd.read_csv)\n",
        "import matplotlib.pyplot as plt # Plotting and Visualizing data"
      ],
      "execution_count": 9,
      "outputs": []
    },
    {
      "cell_type": "markdown",
      "metadata": {
        "id": "GA4K8ZfJYnY7"
      },
      "source": [
        "Dataset"
      ]
    },
    {
      "cell_type": "code",
      "metadata": {
        "colab": {
          "base_uri": "https://localhost:8080/"
        },
        "id": "Nd9dGEzNYxre",
        "outputId": "6e7496b5-b133-4715-8b13-ec48abbef7e9"
      },
      "source": [
        "data = pd.read_csv('/content/drive/MyDrive/Pembelajaran Mesin/Week 2/train_sklearn.csv')\n",
        "print(data.describe())\n",
        "\n",
        "# Removing any data point above x = 100\n",
        "data = data[data.x <= 100]"
      ],
      "execution_count": 10,
      "outputs": [
        {
          "output_type": "stream",
          "name": "stdout",
          "text": [
            "                 x           y\n",
            "count   700.000000  699.000000\n",
            "mean     54.985939   49.939869\n",
            "std     134.681703   29.109217\n",
            "min       0.000000   -3.839981\n",
            "25%      25.000000   24.929968\n",
            "50%      49.000000   48.973020\n",
            "75%      75.000000   74.929911\n",
            "max    3530.157369  108.871618\n"
          ]
        }
      ]
    },
    {
      "cell_type": "markdown",
      "metadata": {
        "id": "fAha7WnMaA0r"
      },
      "source": [
        "Separating dependent, Indepented Variables, Train Test Split"
      ]
    },
    {
      "cell_type": "code",
      "metadata": {
        "id": "hRmtZhXnaBxh"
      },
      "source": [
        "x = data.iloc[:, 0:1].values\n",
        "y = data.iloc[:, 1]"
      ],
      "execution_count": 11,
      "outputs": []
    },
    {
      "cell_type": "code",
      "metadata": {
        "colab": {
          "base_uri": "https://localhost:8080/"
        },
        "id": "1VMNiuEladRz",
        "outputId": "61b5cdec-1626-43aa-e9ce-c585cb67ee8a"
      },
      "source": [
        "from sklearn.model_selection import train_test_split\n",
        "x_train, x_test, y_train, y_test = train_test_split(x, y, test_size = 0.33)\n",
        "print(x[:10])\n",
        "print('\\n')\n",
        "print(y[:10])"
      ],
      "execution_count": 12,
      "outputs": [
        {
          "output_type": "stream",
          "name": "stdout",
          "text": [
            "[[24.]\n",
            " [50.]\n",
            " [15.]\n",
            " [38.]\n",
            " [87.]\n",
            " [36.]\n",
            " [12.]\n",
            " [81.]\n",
            " [25.]\n",
            " [ 5.]]\n",
            "\n",
            "\n",
            "0    21.549452\n",
            "1    47.464463\n",
            "2    17.218656\n",
            "3    36.586398\n",
            "4    87.288984\n",
            "5    32.463875\n",
            "6    10.780897\n",
            "7    80.763399\n",
            "8    24.612151\n",
            "9     6.963319\n",
            "Name: y, dtype: float64\n"
          ]
        }
      ]
    },
    {
      "cell_type": "markdown",
      "metadata": {
        "id": "Mx9J_pTxaoGj"
      },
      "source": [
        "Model Import & Build"
      ]
    },
    {
      "cell_type": "code",
      "metadata": {
        "id": "ympFecveaqTj"
      },
      "source": [
        "from sklearn.linear_model import LinearRegression\n",
        "\n",
        "regressor = LinearRegression()\n",
        "regressor.fit(x_train, y_train)\n",
        "\n",
        "pred = regressor.predict(x_test)"
      ],
      "execution_count": 13,
      "outputs": []
    },
    {
      "cell_type": "markdown",
      "metadata": {
        "id": "GkatISnXauTi"
      },
      "source": [
        "Visualization"
      ]
    },
    {
      "cell_type": "code",
      "metadata": {
        "colab": {
          "base_uri": "https://localhost:8080/",
          "height": 312
        },
        "id": "Uc4cfZMUa0oX",
        "outputId": "438f3d9a-6216-46ed-9481-3e4e1f9afebd"
      },
      "source": [
        "plt.scatter(x_train, y_train)\n",
        "plt.plot(x_train, regressor.predict(x_train), color='black')\n",
        "plt.title('Fit on training set')\n",
        "plt.xlabel('X-Train')\n",
        "plt.ylabel('Y-Train')"
      ],
      "execution_count": 14,
      "outputs": [
        {
          "output_type": "execute_result",
          "data": {
            "text/plain": [
              "Text(0, 0.5, 'Y-Train')"
            ]
          },
          "metadata": {},
          "execution_count": 14
        },
        {
          "output_type": "display_data",
          "data": {
            "image/png": "[encoded data removed]",
            "text/plain": [
              "<Figure size 432x288 with 1 Axes>"
            ]
          },
          "metadata": {
            "needs_background": "light"
          }
        }
      ]
    },
    {
      "cell_type": "code",
      "metadata": {
        "colab": {
          "base_uri": "https://localhost:8080/",
          "height": 312
        },
        "id": "9B1SyxXka-_Q",
        "outputId": "723256a0-cef6-429c-b1cd-6dd5cb4ae80e"
      },
      "source": [
        "plt.scatter(x_test, y_test, color='r')\n",
        "plt.plot(x_test, pred, color='b')\n",
        "plt.title('Validation set')\n",
        "plt.xlabel('X-Test')\n",
        "plt.ylabel('Y-Test')"
      ],
      "execution_count": 15,
      "outputs": [
        {
          "output_type": "execute_result",
          "data": {
            "text/plain": [
              "Text(0, 0.5, 'Y-Test')"
            ]
          },
          "metadata": {},
          "execution_count": 15
        },
        {
          "output_type": "display_data",
          "data": {
            "image/png": "[encoded data removed]",
            "text/plain": [
              "<Figure size 432x288 with 1 Axes>"
            ]
          },
          "metadata": {
            "needs_background": "light"
          }
        }
      ]
    },
    {
      "cell_type": "code",
      "metadata": {
        "colab": {
          "base_uri": "https://localhost:8080/",
          "height": 295
        },
        "id": "7kk0ZsjjbH8a",
        "outputId": "0c4ee9c5-90a9-48bb-f601-77a1218db47c"
      },
      "source": [
        "test = pd.read_csv('/content/drive/MyDrive/Pembelajaran Mesin/Week 2/test_sklearn.csv')\n",
        "test.plot.scatter('x', 'y', color='g')\n",
        "plt.plot(test['x'], regressor.predict(test.iloc[:,0:1].values), color='blue')\n",
        "plt.title('Linear Regression Ouput on Test Data Set')\n",
        "plt.xlabel('X-Values')\n",
        "plt.ylabel('Y-Values')\n",
        "plt.show()"
      ],
      "execution_count": 18,
      "outputs": [
        {
          "output_type": "display_data",
          "data": {
            "image/png": "[encoded data removed]",
            "text/plain": [
              "<Figure size 432x288 with 1 Axes>"
            ]
          },
          "metadata": {
            "needs_background": "light"
          }
        }
      ]
    }
  ]
}