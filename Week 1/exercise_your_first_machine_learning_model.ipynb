{
  "nbformat": 4,
  "nbformat_minor": 0,
  "metadata": {
    "kernelspec": {
      "display_name": "Python 3",
      "language": "python",
      "name": "python3"
    },
    "language_info": {
      "name": "python",
      "version": "3.7.10",
      "mimetype": "text/x-python",
      "codemirror_mode": {
        "name": "ipython",
        "version": 3
      },
      "pygments_lexer": "ipython3",
      "nbconvert_exporter": "python",
      "file_extension": ".py"
    },
    "colab": {
      "name": "exercise-your-first-machine-learning-model.ipynb",
      "provenance": [],
      "include_colab_link": true
    }
  },
  "cells": [
    {
      "cell_type": "markdown",
      "metadata": {
        "id": "view-in-github",
        "colab_type": "text"
      },
      "source": [
        "<a href=\"https://colab.research.google.com/github/muh-ihsan/pembelajaran-mesin/blob/main/exercise_your_first_machine_learning_model.ipynb\" target=\"_parent\"><img src=\"https://colab.research.google.com/assets/colab-badge.svg\" alt=\"Open In Colab\"/></a>"
      ]
    },
    {
      "cell_type": "markdown",
      "metadata": {
        "id": "lBekeho6vuvw"
      },
      "source": [
        "**This notebook is an exercise in the [Introduction to Machine Learning](https://www.kaggle.com/learn/intro-to-machine-learning) course.  You can reference the tutorial at [this link](https://www.kaggle.com/dansbecker/your-first-machine-learning-model).**\n",
        "\n",
        "---\n"
      ]
    },
    {
      "cell_type": "markdown",
      "metadata": {
        "id": "iYn-cU1Hvuv1"
      },
      "source": [
        "## Recap\n",
        "So far, you have loaded your data and reviewed it with the following code. Run this cell to set up your coding environment where the previous step left off."
      ]
    },
    {
      "cell_type": "code",
      "metadata": {
        "colab": {
          "base_uri": "https://localhost:8080/"
        },
        "id": "3sG0JBpsv19s",
        "outputId": "462f0852-9746-4b30-f75f-e9c4f973375d"
      },
      "source": [
        "# Set up learntools\n",
        "!git clone https://github.com/Kaggle/learntools.git\n",
        "!mv learntools learntools_dir\n",
        "!mv learntools_dir/learntools learntools"
      ],
      "execution_count": 1,
      "outputs": [
        {
          "output_type": "stream",
          "name": "stdout",
          "text": [
            "Cloning into 'learntools'...\n",
            "remote: Enumerating objects: 16724, done.\u001b[K\n",
            "remote: Counting objects: 100% (944/944), done.\u001b[K\n",
            "remote: Compressing objects: 100% (553/553), done.\u001b[K\n",
            "remote: Total 16724 (delta 613), reused 666 (delta 391), pack-reused 15780\u001b[K\n",
            "Receiving objects: 100% (16724/16724), 104.37 MiB | 27.95 MiB/s, done.\n",
            "Resolving deltas: 100% (12319/12319), done.\n"
          ]
        }
      ]
    },
    {
      "cell_type": "code",
      "metadata": {
        "execution": {
          "iopub.status.busy": "2021-09-28T04:49:08.868858Z",
          "iopub.execute_input": "2021-09-28T04:49:08.869853Z",
          "iopub.status.idle": "2021-09-28T04:49:09.956353Z",
          "shell.execute_reply.started": "2021-09-28T04:49:08.869705Z",
          "shell.execute_reply": "2021-09-28T04:49:09.955367Z"
        },
        "trusted": true,
        "colab": {
          "base_uri": "https://localhost:8080/"
        },
        "id": "cVQ525fAvuv1",
        "outputId": "cc4db4c1-9e3c-4742-bee3-59f34b665df1"
      },
      "source": [
        "# Code you have previously used to load data\n",
        "import pandas as pd\n",
        "\n",
        "# Path of the file to read\n",
        "iowa_file_path = 'input/train.csv'\n",
        "\n",
        "home_data = pd.read_csv(iowa_file_path)\n",
        "\n",
        "# Set up code checking\n",
        "from learntools.core import binder\n",
        "binder.bind(globals())\n",
        "from learntools.machine_learning.ex3 import *\n",
        "\n",
        "print(\"Setup Complete\")"
      ],
      "execution_count": 5,
      "outputs": [
        {
          "output_type": "stream",
          "name": "stdout",
          "text": [
            "Setup Complete\n"
          ]
        }
      ]
    },
    {
      "cell_type": "markdown",
      "metadata": {
        "id": "SgipPXrkvuv3"
      },
      "source": [
        "# Exercises\n",
        "\n",
        "## Step 1: Specify Prediction Target\n",
        "Select the target variable, which corresponds to the sales price. Save this to a new variable called `y`. You'll need to print a list of the columns to find the name of the column you need.\n"
      ]
    },
    {
      "cell_type": "code",
      "metadata": {
        "execution": {
          "iopub.status.busy": "2021-09-28T04:10:45.595895Z",
          "iopub.execute_input": "2021-09-28T04:10:45.596657Z",
          "iopub.status.idle": "2021-09-28T04:10:45.605486Z",
          "shell.execute_reply.started": "2021-09-28T04:10:45.596621Z",
          "shell.execute_reply": "2021-09-28T04:10:45.604847Z"
        },
        "trusted": true,
        "colab": {
          "base_uri": "https://localhost:8080/"
        },
        "id": "JwsvaqX4vuv3",
        "outputId": "1101ecaa-d30d-4e37-8ee6-51513b702734"
      },
      "source": [
        "# print the list of columns in the dataset to find the name of the prediction target\n",
        "home_data.columns"
      ],
      "execution_count": 6,
      "outputs": [
        {
          "output_type": "execute_result",
          "data": {
            "text/plain": [
              "Index(['Id', 'MSSubClass', 'MSZoning', 'LotFrontage', 'LotArea', 'Street',\n",
              "       'Alley', 'LotShape', 'LandContour', 'Utilities', 'LotConfig',\n",
              "       'LandSlope', 'Neighborhood', 'Condition1', 'Condition2', 'BldgType',\n",
              "       'HouseStyle', 'OverallQual', 'OverallCond', 'YearBuilt', 'YearRemodAdd',\n",
              "       'RoofStyle', 'RoofMatl', 'Exterior1st', 'Exterior2nd', 'MasVnrType',\n",
              "       'MasVnrArea', 'ExterQual', 'ExterCond', 'Foundation', 'BsmtQual',\n",
              "       'BsmtCond', 'BsmtExposure', 'BsmtFinType1', 'BsmtFinSF1',\n",
              "       'BsmtFinType2', 'BsmtFinSF2', 'BsmtUnfSF', 'TotalBsmtSF', 'Heating',\n",
              "       'HeatingQC', 'CentralAir', 'Electrical', '1stFlrSF', '2ndFlrSF',\n",
              "       'LowQualFinSF', 'GrLivArea', 'BsmtFullBath', 'BsmtHalfBath', 'FullBath',\n",
              "       'HalfBath', 'BedroomAbvGr', 'KitchenAbvGr', 'KitchenQual',\n",
              "       'TotRmsAbvGrd', 'Functional', 'Fireplaces', 'FireplaceQu', 'GarageType',\n",
              "       'GarageYrBlt', 'GarageFinish', 'GarageCars', 'GarageArea', 'GarageQual',\n",
              "       'GarageCond', 'PavedDrive', 'WoodDeckSF', 'OpenPorchSF',\n",
              "       'EnclosedPorch', '3SsnPorch', 'ScreenPorch', 'PoolArea', 'PoolQC',\n",
              "       'Fence', 'MiscFeature', 'MiscVal', 'MoSold', 'YrSold', 'SaleType',\n",
              "       'SaleCondition', 'SalePrice'],\n",
              "      dtype='object')"
            ]
          },
          "metadata": {},
          "execution_count": 6
        }
      ]
    },
    {
      "cell_type": "code",
      "metadata": {
        "execution": {
          "iopub.status.busy": "2021-09-28T04:49:16.458757Z",
          "iopub.execute_input": "2021-09-28T04:49:16.459100Z",
          "iopub.status.idle": "2021-09-28T04:49:16.474314Z",
          "shell.execute_reply.started": "2021-09-28T04:49:16.459069Z",
          "shell.execute_reply": "2021-09-28T04:49:16.473295Z"
        },
        "trusted": true,
        "colab": {
          "base_uri": "https://localhost:8080/",
          "height": 46
        },
        "id": "q7a4AZAEvuv4",
        "outputId": "9875412f-19a3-469d-82c2-1cdfabe04457"
      },
      "source": [
        "y = home_data.SalePrice\n",
        "\n",
        "# Check your answer\n",
        "step_1.check()"
      ],
      "execution_count": 7,
      "outputs": [
        {
          "output_type": "display_data",
          "data": {
            "application/javascript": [
              "parent.postMessage({\"jupyterEvent\": \"custom.exercise_interaction\", \"data\": {\"outcomeType\": 1, \"valueTowardsCompletion\": 0.25, \"interactionType\": 1, \"questionType\": 2, \"questionId\": \"1_SetTarget\", \"learnToolsVersion\": \"0.3.4\", \"failureMessage\": \"\", \"exceptionClass\": \"\", \"trace\": \"\"}}, \"*\")"
            ],
            "text/plain": [
              "<IPython.core.display.Javascript object>"
            ]
          },
          "metadata": {}
        },
        {
          "output_type": "display_data",
          "data": {
            "text/markdown": "<span style=\"color:#33cc33\">Correct</span>",
            "text/plain": [
              "Correct"
            ]
          },
          "metadata": {}
        }
      ]
    },
    {
      "cell_type": "code",
      "metadata": {
        "collapsed": true,
        "jupyter": {
          "outputs_hidden": true
        },
        "id": "AFOhtaWcvuv4"
      },
      "source": [
        "# The lines below will show you a hint or the solution.\n",
        "# step_1.hint() \n",
        "# step_1.solution()"
      ],
      "execution_count": 8,
      "outputs": []
    },
    {
      "cell_type": "markdown",
      "metadata": {
        "id": "xA43i_8Uvuv4"
      },
      "source": [
        "## Step 2: Create X\n",
        "Now you will create a DataFrame called `X` holding the predictive features.\n",
        "\n",
        "Since you want only some columns from the original data, you'll first create a list with the names of the columns you want in `X`.\n",
        "\n",
        "You'll use just the following columns in the list (you can copy and paste the whole list to save some typing, though you'll still need to add quotes):\n",
        "    * LotArea\n",
        "    * YearBuilt\n",
        "    * 1stFlrSF\n",
        "    * 2ndFlrSF\n",
        "    * FullBath\n",
        "    * BedroomAbvGr\n",
        "    * TotRmsAbvGrd\n",
        "\n",
        "After you've created that list of features, use it to create the DataFrame that you'll use to fit the model."
      ]
    },
    {
      "cell_type": "code",
      "metadata": {
        "execution": {
          "iopub.status.busy": "2021-09-28T04:49:21.578399Z",
          "iopub.execute_input": "2021-09-28T04:49:21.578685Z",
          "iopub.status.idle": "2021-09-28T04:49:21.593256Z",
          "shell.execute_reply.started": "2021-09-28T04:49:21.578656Z",
          "shell.execute_reply": "2021-09-28T04:49:21.592359Z"
        },
        "trusted": true,
        "colab": {
          "base_uri": "https://localhost:8080/",
          "height": 46
        },
        "id": "rMVJWYQ5vuv5",
        "outputId": "6e4ea5e5-8a7a-4e6e-8955-da12f61ad351"
      },
      "source": [
        "# Create the list of features below\n",
        "feature_names = ['LotArea','YearBuilt','1stFlrSF','2ndFlrSF','FullBath','BedroomAbvGr','TotRmsAbvGrd']\n",
        "\n",
        "# Select data corresponding to features in feature_names\n",
        "X = home_data[feature_names]\n",
        "\n",
        "# Check your answer\n",
        "step_2.check()"
      ],
      "execution_count": 9,
      "outputs": [
        {
          "output_type": "display_data",
          "data": {
            "application/javascript": [
              "parent.postMessage({\"jupyterEvent\": \"custom.exercise_interaction\", \"data\": {\"outcomeType\": 1, \"valueTowardsCompletion\": 0.25, \"interactionType\": 1, \"questionType\": 2, \"questionId\": \"2_SelectPredictionData\", \"learnToolsVersion\": \"0.3.4\", \"failureMessage\": \"\", \"exceptionClass\": \"\", \"trace\": \"\"}}, \"*\")"
            ],
            "text/plain": [
              "<IPython.core.display.Javascript object>"
            ]
          },
          "metadata": {}
        },
        {
          "output_type": "display_data",
          "data": {
            "text/markdown": "<span style=\"color:#33cc33\">Correct</span>",
            "text/plain": [
              "Correct"
            ]
          },
          "metadata": {}
        }
      ]
    },
    {
      "cell_type": "code",
      "metadata": {
        "collapsed": true,
        "jupyter": {
          "outputs_hidden": true
        },
        "id": "jeJu9J_Jvuv5"
      },
      "source": [
        "# step_2.hint()\n",
        "# step_2.solution()"
      ],
      "execution_count": null,
      "outputs": []
    },
    {
      "cell_type": "markdown",
      "metadata": {
        "id": "10EtaOc4vuv6"
      },
      "source": [
        "## Review Data\n",
        "Before building a model, take a quick look at **X** to verify it looks sensible"
      ]
    },
    {
      "cell_type": "code",
      "metadata": {
        "execution": {
          "iopub.status.busy": "2021-09-28T04:27:58.756745Z",
          "iopub.execute_input": "2021-09-28T04:27:58.757430Z",
          "iopub.status.idle": "2021-09-28T04:27:58.765992Z",
          "shell.execute_reply.started": "2021-09-28T04:27:58.757382Z",
          "shell.execute_reply": "2021-09-28T04:27:58.765137Z"
        },
        "trusted": true,
        "colab": {
          "base_uri": "https://localhost:8080/"
        },
        "id": "Y4btviw_vuv6",
        "outputId": "d9eedc8e-dc4f-493f-bdf8-b692b5531911"
      },
      "source": [
        "# Review data\n",
        "# print description or statistics from X\n",
        "#print(X.describe())\n",
        "\n",
        "# print the top few lines\n",
        "print(X.head())"
      ],
      "execution_count": 11,
      "outputs": [
        {
          "output_type": "stream",
          "name": "stdout",
          "text": [
            "   LotArea  YearBuilt  1stFlrSF  2ndFlrSF  FullBath  BedroomAbvGr  TotRmsAbvGrd\n",
            "0     8450       2003       856       854         2             3             8\n",
            "1     9600       1976      1262         0         2             3             6\n",
            "2    11250       2001       920       866         2             3             6\n",
            "3     9550       1915       961       756         1             3             7\n",
            "4    14260       2000      1145      1053         2             4             9\n"
          ]
        }
      ]
    },
    {
      "cell_type": "markdown",
      "metadata": {
        "id": "XNTHvvh5vuv6"
      },
      "source": [
        "## Step 3: Specify and Fit Model\n",
        "Create a `DecisionTreeRegressor` and save it iowa_model. Ensure you've done the relevant import from sklearn to run this command.\n",
        "\n",
        "Then fit the model you just created using the data in `X` and `y` that you saved above."
      ]
    },
    {
      "cell_type": "code",
      "metadata": {
        "execution": {
          "iopub.status.busy": "2021-09-28T04:49:28.988768Z",
          "iopub.execute_input": "2021-09-28T04:49:28.989582Z",
          "iopub.status.idle": "2021-09-28T04:49:29.009647Z",
          "shell.execute_reply.started": "2021-09-28T04:49:28.989539Z",
          "shell.execute_reply": "2021-09-28T04:49:29.008774Z"
        },
        "trusted": true,
        "colab": {
          "base_uri": "https://localhost:8080/",
          "height": 46
        },
        "id": "iu5f6Am9vuv7",
        "outputId": "8181b2c3-6b15-4b7b-ea34-3b86c2dc268c"
      },
      "source": [
        "from sklearn.tree import DecisionTreeRegressor\n",
        "#specify the model. \n",
        "#For model reproducibility, set a numeric value for random_state when specifying the model\n",
        "iowa_model = DecisionTreeRegressor(random_state=1)\n",
        "\n",
        "# Fit the model\n",
        "iowa_model.fit(X, y)\n",
        "\n",
        "# Check your answer\n",
        "step_3.check()"
      ],
      "execution_count": 12,
      "outputs": [
        {
          "output_type": "display_data",
          "data": {
            "application/javascript": [
              "parent.postMessage({\"jupyterEvent\": \"custom.exercise_interaction\", \"data\": {\"outcomeType\": 1, \"valueTowardsCompletion\": 0.25, \"interactionType\": 1, \"questionType\": 2, \"questionId\": \"3_CreateModel\", \"learnToolsVersion\": \"0.3.4\", \"failureMessage\": \"\", \"exceptionClass\": \"\", \"trace\": \"\"}}, \"*\")"
            ],
            "text/plain": [
              "<IPython.core.display.Javascript object>"
            ]
          },
          "metadata": {}
        },
        {
          "output_type": "display_data",
          "data": {
            "text/markdown": "<span style=\"color:#33cc33\">Correct</span>",
            "text/plain": [
              "Correct"
            ]
          },
          "metadata": {}
        }
      ]
    },
    {
      "cell_type": "code",
      "metadata": {
        "collapsed": true,
        "jupyter": {
          "outputs_hidden": true
        },
        "id": "WjtRAGVwvuv7"
      },
      "source": [
        "# step_3.hint()\n",
        "# step_3.solution()"
      ],
      "execution_count": null,
      "outputs": []
    },
    {
      "cell_type": "markdown",
      "metadata": {
        "id": "RvjZeeOKvuv7"
      },
      "source": [
        "## Step 4: Make Predictions\n",
        "Make predictions with the model's `predict` command using `X` as the data. Save the results to a variable called `predictions`."
      ]
    },
    {
      "cell_type": "code",
      "metadata": {
        "execution": {
          "iopub.status.busy": "2021-09-28T04:49:35.238377Z",
          "iopub.execute_input": "2021-09-28T04:49:35.238660Z",
          "iopub.status.idle": "2021-09-28T04:49:35.252298Z",
          "shell.execute_reply.started": "2021-09-28T04:49:35.238632Z",
          "shell.execute_reply": "2021-09-28T04:49:35.251252Z"
        },
        "trusted": true,
        "colab": {
          "base_uri": "https://localhost:8080/",
          "height": 62
        },
        "id": "g3VAkVvKvuv7",
        "outputId": "f30a762f-a44c-494f-f6e1-4311b52049b5"
      },
      "source": [
        "predictions = iowa_model.predict(X)\n",
        "print(predictions)\n",
        "\n",
        "# Check your answer\n",
        "step_4.check()"
      ],
      "execution_count": 13,
      "outputs": [
        {
          "output_type": "stream",
          "name": "stdout",
          "text": [
            "[208500. 181500. 223500. ... 266500. 142125. 147500.]\n"
          ]
        },
        {
          "output_type": "display_data",
          "data": {
            "application/javascript": [
              "parent.postMessage({\"jupyterEvent\": \"custom.exercise_interaction\", \"data\": {\"outcomeType\": 1, \"valueTowardsCompletion\": 0.25, \"interactionType\": 1, \"questionType\": 2, \"questionId\": \"4_MakePredictions\", \"learnToolsVersion\": \"0.3.4\", \"failureMessage\": \"\", \"exceptionClass\": \"\", \"trace\": \"\"}}, \"*\")"
            ],
            "text/plain": [
              "<IPython.core.display.Javascript object>"
            ]
          },
          "metadata": {}
        },
        {
          "output_type": "display_data",
          "data": {
            "text/markdown": "<span style=\"color:#33cc33\">Correct</span>",
            "text/plain": [
              "Correct"
            ]
          },
          "metadata": {}
        }
      ]
    },
    {
      "cell_type": "code",
      "metadata": {
        "collapsed": true,
        "jupyter": {
          "outputs_hidden": true
        },
        "id": "ciVE9EqUvuv8"
      },
      "source": [
        "# step_4.hint()\n",
        "# step_4.solution()"
      ],
      "execution_count": null,
      "outputs": []
    },
    {
      "cell_type": "markdown",
      "metadata": {
        "id": "ZFU2VCDdvuv8"
      },
      "source": [
        "## Think About Your Results\n",
        "\n",
        "Use the `head` method to compare the top few predictions to the actual home values (in `y`) for those same homes. Anything surprising?\n"
      ]
    },
    {
      "cell_type": "code",
      "metadata": {
        "execution": {
          "iopub.status.busy": "2021-09-28T04:49:38.808218Z",
          "iopub.execute_input": "2021-09-28T04:49:38.808533Z",
          "iopub.status.idle": "2021-09-28T04:49:38.818439Z",
          "shell.execute_reply.started": "2021-09-28T04:49:38.808501Z",
          "shell.execute_reply": "2021-09-28T04:49:38.817545Z"
        },
        "trusted": true,
        "colab": {
          "base_uri": "https://localhost:8080/"
        },
        "id": "VZAU_UzPvuv8",
        "outputId": "5657f3ef-26f8-423d-f6b0-db33c91b5134"
      },
      "source": [
        "# You can write code in this cell\n",
        "print(\"Prediction for the top 5 houses:\")\n",
        "print(iowa_model.predict(X.head()))\n",
        "print(\"Actual values for the top 5 houses:\")\n",
        "print(home_data.SalePrice.head())"
      ],
      "execution_count": 14,
      "outputs": [
        {
          "output_type": "stream",
          "name": "stdout",
          "text": [
            "Prediction for the top 5 houses:\n",
            "[208500. 181500. 223500. 140000. 250000.]\n",
            "Actual values for the top 5 houses:\n",
            "0    208500\n",
            "1    181500\n",
            "2    223500\n",
            "3    140000\n",
            "4    250000\n",
            "Name: SalePrice, dtype: int64\n"
          ]
        }
      ]
    },
    {
      "cell_type": "markdown",
      "metadata": {
        "id": "Bq2Bh-RPvuv8"
      },
      "source": [
        "It's natural to ask how accurate the model's predictions will be and how you can improve that. That will be you're next step.\n",
        "\n",
        "# Keep Going\n",
        "\n",
        "You are ready for **[Model Validation](https://www.kaggle.com/dansbecker/model-validation).**\n"
      ]
    }
  ]
}